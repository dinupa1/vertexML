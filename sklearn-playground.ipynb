{
 "cells": [
  {
   "cell_type": "code",
   "execution_count": null,
   "metadata": {
    "tags": []
   },
   "outputs": [],
   "source": [
    "import numpy as np\n",
    "import pandas as pd\n",
    "import matplotlib.pyplot as plt\n",
    "import mplhep as hep\n",
    "from sklearn.preprocessing import OneHotEncoder\n",
    "from sklearn.neural_network import MLPClassifier\n",
    "from sklearn.model_selection import train_test_split\n",
    "from sklearn.preprocessing import StandardScaler\n",
    "\n",
    "hep.style.use(hep.style.ROOT)"
   ]
  },
  {
   "cell_type": "markdown",
   "metadata": {},
   "source": [
    "# Classifiaction of Single Muon Tracks with `scikit-learn` `MLPClassifier`"
   ]
  },
  {
   "cell_type": "code",
   "execution_count": null,
   "metadata": {
    "collapsed": false,
    "jupyter": {
     "outputs_hidden": false
    }
   },
   "outputs": [],
   "source": [
    "def add_labels(z: float)->int:\n",
    "    if -800.0 < z and z < -305.0:\n",
    "        return 0\n",
    "    if -305.0 < z and z < -295.0:\n",
    "        return 1\n",
    "    if -295.0 < z and z < -1.0:\n",
    "        return 2\n",
    "    if -1.0 < z and z < 500.0:\n",
    "        return 3\n",
    "    else:\n",
    "        return -99"
   ]
  },
  {
   "cell_type": "code",
   "execution_count": null,
   "metadata": {
    "collapsed": false,
    "jupyter": {
     "outputs_hidden": false
    }
   },
   "outputs": [],
   "source": [
    "df = pd.read_csv('events-200k.csv')\n",
    "df['hot_id']  = df['vtz'].apply(add_labels)"
   ]
  },
  {
   "cell_type": "code",
   "execution_count": null,
   "metadata": {
    "collapsed": false,
    "jupyter": {
     "outputs_hidden": false
    }
   },
   "outputs": [],
   "source": [
    "# split train and target\n",
    "X, y = df[['q1', 'x1', 'y1', 'z1', 'x2', 'y2', 'z2', 'px1', 'py1', 'pz1', 'px2', 'py2', 'pz2']].to_numpy(),\\\n",
    "             df[['vtx', 'vty', 'vtz', 'vpx', 'vpy', 'vpz','hot_id']].to_numpy()"
   ]
  },
  {
   "cell_type": "code",
   "execution_count": null,
   "metadata": {
    "collapsed": false,
    "jupyter": {
     "outputs_hidden": false
    }
   },
   "outputs": [],
   "source": [
    "# one hot encoding\n",
    "ohe = OneHotEncoder(sparse=False)\n",
    "y_hotid = ohe.fit_transform(y[:, 6].reshape(-1, 1))\n",
    "y = np.concatenate((y[:, :6], y_hotid), axis=1)"
   ]
  },
  {
   "cell_type": "code",
   "execution_count": null,
   "metadata": {
    "collapsed": false,
    "jupyter": {
     "outputs_hidden": false
    }
   },
   "outputs": [],
   "source": [
    "# train, validate test split\n",
    "X_train_val, X_test, y_train_val, y_test = train_test_split(X, y, test_size=0.2)\n",
    "X_train, X_valid, y_train, y_valid = train_test_split(X_train_val, y_train_val, test_size=0.25)"
   ]
  },
  {
   "cell_type": "code",
   "execution_count": null,
   "metadata": {
    "collapsed": false,
    "jupyter": {
     "outputs_hidden": false
    }
   },
   "outputs": [],
   "source": [
    "# scale the train, validate and test inputs\n",
    "scaler = StandardScaler()\n",
    "X_train = scaler.fit_transform(X_train)\n",
    "X_valid = scaler.transform(X_valid)\n",
    "X_test = scaler.transform(X_test)"
   ]
  },
  {
   "cell_type": "code",
   "execution_count": null,
   "metadata": {
    "collapsed": false,
    "jupyter": {
     "outputs_hidden": false
    }
   },
   "outputs": [],
   "source": [
    "\"\"\"\n",
    "Classification using sklearn MLPClassifier\n",
    "info https://scikit-learn.org/stable/modules/generated/sklearn.neural_network.MLPClassifier.html\n",
    "\"\"\"\n",
    "\n",
    "clf = MLPClassifier(max_iter=300, hidden_layer_sizes=(64, 64, 64), batch_size=64)\n",
    "clf.fit(X_train, y_train[:, 6:])\n",
    "score = clf.score(X_test, y_test[:, 6:])\n",
    "print(\"classification score = {}\".format(score))"
   ]
  },
  {
   "cell_type": "code",
   "execution_count": null,
   "metadata": {
    "collapsed": false,
    "jupyter": {
     "outputs_hidden": false
    }
   },
   "outputs": [],
   "source": [
    "y_pred_hotid = clf.predict(X_test)\n",
    "y_pred_deco = np.argmax(y_pred_hotid, axis=1)\n",
    "y_test_deco = np.argmax(y_test[:, 6:], axis=1)\n",
    "\n",
    "# print(\"size y_test = {}\".format(y_test_deco.shape))\n",
    "# print(\"size y_pred = {}\".format(y_pred_deco.shape))\n",
    "\n",
    "plt.figure(figsize=(5, 5))\n",
    "plt.hist(y_test_deco, histtype='step', bins=4, range=(-0.5, 3.5), label='test')\n",
    "plt.hist(y_pred_deco, histtype='step', bins=4, range=(-0.5, 3.5), label='pred')\n",
    "plt.xlabel('hot id')\n",
    "plt.ylabel('counts')\n",
    "plt.legend()\n",
    "plt.yscale('log')\n",
    "plt.tight_layout()\n",
    "plt.savefig('imgs/cls-hot-id.png')\n",
    "plt.show()"
   ]
  },
  {
   "cell_type": "code",
   "execution_count": null,
   "metadata": {
    "collapsed": false,
    "jupyter": {
     "outputs_hidden": false
    }
   },
   "outputs": [],
   "source": [
    "y_train_hotid = clf.predict(X_train)\n",
    "X_train_hotid = np.concatenate((X_train, y_train_hotid), axis=1)\n",
    "# X_train_hotid"
   ]
  },
  {
   "cell_type": "code",
   "execution_count": null,
   "metadata": {
    "collapsed": false,
    "jupyter": {
     "outputs_hidden": false
    }
   },
   "outputs": [],
   "source": [
    "from sklearn.neural_network import MLPRegressor\n",
    "\n",
    "reg = MLPRegressor(max_iter=500, hidden_layer_sizes=(100, 100, 100), batch_size=64)\n",
    "reg.fit(X_train_hotid, y_train[:, :6])\n",
    "\n",
    "X_test_hotid = np.concatenate((X_test, y_pred_hotid), axis=1)\n",
    "\n",
    "y_pos_pred = reg.predict(X_test_hotid)\n",
    "\n",
    "score = reg.score(X_test_hotid, y_test[:, :6])\n",
    "\n",
    "print(\"regression score : {}\".format(score))"
   ]
  },
  {
   "cell_type": "code",
   "execution_count": null,
   "metadata": {
    "collapsed": false,
    "jupyter": {
     "outputs_hidden": false
    }
   },
   "outputs": [],
   "source": [
    "plt.figure(figsize=(5, 5))\n",
    "plt.hist(y_test[:, 0], histtype='step', label='test', bins=20, range=[-5., 5.])\n",
    "plt.hist(y_pos_pred[:, 0], histtype='step', label='pred', bins=20, range=[-5., 5.])\n",
    "plt.yscale('log')\n",
    "plt.xlabel('x [cm]')\n",
    "plt.ylabel('counts')\n",
    "plt.legend()\n",
    "plt.tight_layout()\n",
    "plt.savefig('imgs/cls-vtx.png')\n",
    "plt.show()"
   ]
  },
  {
   "cell_type": "code",
   "execution_count": null,
   "metadata": {
    "collapsed": false,
    "jupyter": {
     "outputs_hidden": false
    }
   },
   "outputs": [],
   "source": [
    "plt.figure(figsize=(5, 5))\n",
    "plt.hist(y_test[:, 1], histtype='step', label='test', bins=20, range=[-5., 5.])\n",
    "plt.hist(y_pos_pred[:, 1], histtype='step', label='pred', bins=20, range=[-5., 5.])\n",
    "plt.yscale('log')\n",
    "plt.xlabel('y [cm]')\n",
    "plt.ylabel('counts')\n",
    "plt.legend()\n",
    "plt.tight_layout()\n",
    "plt.savefig('imgs/cls-vty.png')\n",
    "plt.show()"
   ]
  },
  {
   "cell_type": "code",
   "execution_count": null,
   "metadata": {
    "collapsed": false,
    "jupyter": {
     "outputs_hidden": false
    }
   },
   "outputs": [],
   "source": [
    "plt.figure(figsize=(5, 5))\n",
    "plt.hist(y_test[:, 2], histtype='step', label='test', bins=50, range=[-800., 200.])\n",
    "plt.hist(y_pos_pred[:, 2], histtype='step', label='pred', bins=50, range=[-800., 200.])\n",
    "plt.yscale('log')\n",
    "plt.xlabel('z [cm]')\n",
    "plt.ylabel('counts')\n",
    "plt.legend()\n",
    "plt.tight_layout()\n",
    "plt.savefig('imgs/cls-vtz.png')\n",
    "plt.show()"
   ]
  },
  {
   "cell_type": "code",
   "execution_count": null,
   "metadata": {
    "collapsed": false,
    "jupyter": {
     "outputs_hidden": false
    }
   },
   "outputs": [],
   "source": [
    "plt.figure(figsize=(5, 5))\n",
    "plt.hist(y_test[:, 3], histtype='step', label='test', bins=20, range=[-5., 5.])\n",
    "plt.hist(y_pos_pred[:, 3], histtype='step', label='pred', bins=20, range=[-5., 5.])\n",
    "plt.yscale('log')\n",
    "plt.xlabel('px [GeV/c]')\n",
    "plt.ylabel('counts')\n",
    "plt.legend()\n",
    "plt.tight_layout()\n",
    "plt.savefig('imgs/cls-vpx.png')\n",
    "plt.show()"
   ]
  },
  {
   "cell_type": "code",
   "execution_count": null,
   "metadata": {
    "collapsed": false,
    "jupyter": {
     "outputs_hidden": false
    }
   },
   "outputs": [],
   "source": [
    "plt.figure(figsize=(5, 5))\n",
    "plt.hist(y_test[:, 4], histtype='step', label='test', bins=20, range=[-5., 5.])\n",
    "plt.hist(y_pos_pred[:, 4], histtype='step', label='pred', bins=20, range=[-5., 5.])\n",
    "plt.yscale('log')\n",
    "plt.xlabel('py [GeV/c]')\n",
    "plt.ylabel('counts')\n",
    "plt.legend()\n",
    "plt.tight_layout()\n",
    "plt.savefig('imgs/cls-vpy.png')\n",
    "plt.show()"
   ]
  },
  {
   "cell_type": "code",
   "execution_count": null,
   "metadata": {
    "collapsed": false,
    "jupyter": {
     "outputs_hidden": false
    }
   },
   "outputs": [],
   "source": [
    "plt.figure(figsize=(5, 5))\n",
    "plt.hist(y_test[:, 5], histtype='step', label='test', bins=20, range=[20., 100.])\n",
    "plt.hist(y_pos_pred[:, 5], histtype='step', label='pred', bins=20, range=[20., 100.])\n",
    "plt.yscale('log')\n",
    "plt.xlabel('pz [GeV/c]')\n",
    "plt.ylabel('counts')\n",
    "plt.legend()\n",
    "plt.tight_layout()\n",
    "plt.savefig('imgs/cls-vpz.png')\n",
    "plt.show()"
   ]
  },
  {
   "cell_type": "code",
   "execution_count": null,
   "metadata": {},
   "outputs": [],
   "source": []
  }
 ],
 "metadata": {
  "kernelspec": {
   "display_name": "Python 3 (ipykernel)",
   "language": "python",
   "name": "python3"
  },
  "language_info": {
   "codemirror_mode": {
    "name": "ipython",
    "version": 3
   },
   "file_extension": ".py",
   "mimetype": "text/x-python",
   "name": "python",
   "nbconvert_exporter": "python",
   "pygments_lexer": "ipython3",
   "version": "3.9.13"
  }
 },
 "nbformat": 4,
 "nbformat_minor": 4
}
