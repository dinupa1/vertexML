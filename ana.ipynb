{
 "cells": [
  {
   "cell_type": "code",
   "execution_count": 1,
   "id": "1984ffa1-1140-44be-beb9-4d8616bf3e09",
   "metadata": {},
   "outputs": [],
   "source": [
    "import numpy as np\n",
    "import matplotlib.pyplot as plt\n",
    "\n",
    "import uproot\n",
    "import hist\n",
    "import awkward as ak\n",
    "import vector\n",
    "vector.register_awkward()\n",
    "\n",
    "import torch\n",
    "import pandas as pd\n",
    "\n",
    "from model import vertexMLP, vertexReg, vertexTag"
   ]
  },
  {
   "cell_type": "code",
   "execution_count": 2,
   "id": "f2604205-dd14-422e-a064-60eb3116f15e",
   "metadata": {},
   "outputs": [
    {
     "data": {
      "text/plain": [
       "vertexMLP(\n",
       "  (fc1): vertexTag(\n",
       "    (fc1): Linear(in_features=13, out_features=32, bias=True)\n",
       "    (fc2): Linear(in_features=32, out_features=32, bias=True)\n",
       "    (fc3): Linear(in_features=32, out_features=32, bias=True)\n",
       "    (fc5): Linear(in_features=32, out_features=5, bias=True)\n",
       "  )\n",
       "  (fc2): vertexReg(\n",
       "    (fc1): Linear(in_features=18, out_features=32, bias=True)\n",
       "    (fc2): Linear(in_features=32, out_features=32, bias=True)\n",
       "    (fc3): Linear(in_features=32, out_features=32, bias=True)\n",
       "    (fc4): Linear(in_features=32, out_features=32, bias=True)\n",
       "    (fc5): Linear(in_features=32, out_features=6, bias=True)\n",
       "  )\n",
       ")"
      ]
     },
     "execution_count": 2,
     "metadata": {},
     "output_type": "execute_result"
    }
   ],
   "source": [
    "# net = vertexMLP(hidden_dim1=32, hidden_dim2=32)\n",
    "net = torch.load('net.pt')\n",
    "net.eval()"
   ]
  },
  {
   "cell_type": "code",
   "execution_count": 3,
   "id": "95af1037-9430-4b44-bd17-9ba39aa33928",
   "metadata": {},
   "outputs": [
    {
     "name": "stdout",
     "output_type": "stream",
     "text": [
      "name                 | typename                 | interpretation                \n",
      "---------------------+--------------------------+-------------------------------\n",
      "event                | evt                      | AsGroup(<TBranchElement 'ev...\n",
      "event/id             | int32_t                  | AsDtype('>i4')\n",
      "event/rec_stat       | int32_t                  | AsDtype('>i4')\n",
      "event/weight         | double                   | AsDtype('>f8')\n",
      "event/rec_ndim       | int32_t                  | AsDtype('>i4')\n",
      "rec_trk              | trk                      | AsGroup(<TBranchElement 're...\n",
      "rec_trk/q            | int32_t                  | AsDtype('>i4')\n",
      "rec_trk/x1           | double                   | AsDtype('>f8')\n",
      "rec_trk/y1           | double                   | AsDtype('>f8')\n",
      "rec_trk/z1           | double                   | AsDtype('>f8')\n",
      "rec_trk/px1          | double                   | AsDtype('>f8')\n",
      "rec_trk/py1          | double                   | AsDtype('>f8')\n",
      "rec_trk/pz1          | double                   | AsDtype('>f8')\n",
      "rec_trk/x3           | double                   | AsDtype('>f8')\n",
      "rec_trk/y3           | double                   | AsDtype('>f8')\n",
      "rec_trk/z3           | double                   | AsDtype('>f8')\n",
      "rec_trk/px3          | double                   | AsDtype('>f8')\n",
      "rec_trk/py3          | double                   | AsDtype('>f8')\n",
      "rec_trk/pz3          | double                   | AsDtype('>f8')\n",
      "true_vtx             | vtx                      | AsGroup(<TBranchElement 'tr...\n",
      "true_vtx/x           | double                   | AsDtype('>f8')\n",
      "true_vtx/y           | double                   | AsDtype('>f8')\n",
      "true_vtx/z           | double                   | AsDtype('>f8')\n",
      "true_vtx/px          | double                   | AsDtype('>f8')\n",
      "true_vtx/py          | double                   | AsDtype('>f8')\n",
      "true_vtx/pz          | double                   | AsDtype('>f8')\n",
      "rec_vtx              | vtx                      | AsGroup(<TBranchElement 're...\n",
      "rec_vtx/x            | double                   | AsDtype('>f8')\n",
      "rec_vtx/y            | double                   | AsDtype('>f8')\n",
      "rec_vtx/z            | double                   | AsDtype('>f8')\n",
      "rec_vtx/px           | double                   | AsDtype('>f8')\n",
      "rec_vtx/py           | double                   | AsDtype('>f8')\n",
      "rec_vtx/pz           | double                   | AsDtype('>f8')\n"
     ]
    }
   ],
   "source": [
    "event_file = uproot.open(\"evt_tree.root\")\n",
    "\n",
    "trk_tree = event_file[\"trk_tree\"]\n",
    "trk_tree.show()"
   ]
  },
  {
   "cell_type": "code",
   "execution_count": 4,
   "id": "9f170a65-df3c-4f51-817e-10b7c23ad207",
   "metadata": {},
   "outputs": [],
   "source": [
    "trk_data = trk_tree.arrays([\"event/id\", \"event/rec_ndim\", \"rec_trk/q\", \"rec_trk/x1\", \"rec_trk/y1\", \"rec_trk/z1\",\n",
    "                            \"rec_trk/x3\", \"rec_trk/y3\", \"rec_trk/z3\", \"rec_trk/px1\", \"rec_trk/py1\", \"rec_trk/pz1\",\n",
    "                           \"rec_trk/px3\", \"rec_trk/py3\", \"rec_trk/pz3\"], library=\"pd\")\n",
    "\n",
    "trk_data = trk_data[trk_data[\"event/rec_ndim\"]==1]\n",
    "\n",
    "trk_data = trk_data[[\"event/id\",\"rec_trk/q\", \"rec_trk/x1\", \"rec_trk/y1\", \"rec_trk/z1\", \"rec_trk/x3\",\n",
    "                      \"rec_trk/y3\", \"rec_trk/z3\", \"rec_trk/px1\", \"rec_trk/py1\", \"rec_trk/pz1\",\n",
    "                      \"rec_trk/px3\", \"rec_trk/py3\", \"rec_trk/pz3\"]].to_numpy()"
   ]
  },
  {
   "cell_type": "code",
   "execution_count": 5,
   "id": "77134881-333d-4297-b601-ad7a7da283c5",
   "metadata": {},
   "outputs": [],
   "source": [
    "X_test = trk_data[:, 1:]"
   ]
  },
  {
   "cell_type": "code",
   "execution_count": 6,
   "id": "c8656b18-2f44-4878-89a9-d01b91ecad41",
   "metadata": {},
   "outputs": [],
   "source": [
    "from sklearn.preprocessing import StandardScaler\n",
    "\n",
    "scaler = StandardScaler()\n",
    "X_test = scaler.fit_transform(X_test)"
   ]
  },
  {
   "cell_type": "code",
   "execution_count": 7,
   "id": "b127819d-1696-47db-8847-0e4406425df9",
   "metadata": {},
   "outputs": [],
   "source": [
    "pred_hotid, y_pred = net(torch.tensor(X_test).unsqueeze(0).float())\n",
    "y_pred = y_pred.squeeze().detach().numpy()"
   ]
  },
  {
   "cell_type": "code",
   "execution_count": 8,
   "id": "5022ca0f-3baa-4f58-adb9-c8c724ef26a2",
   "metadata": {},
   "outputs": [],
   "source": [
    "# mass of the muon\n",
    "mu_mass = 0.106\n",
    "\n",
    "single_mu = ak.zip({\n",
    "    \"event_id\": trk_data[:, 0],\n",
    "    \"charge\": trk_data[:, 1],\n",
    "    \"px\": y_pred[:, 3],\n",
    "    \"py\": y_pred[:, 4],\n",
    "    \"pz\": y_pred[:, 5],\n",
    "    \"mass\": mu_mass,\n",
    "}, with_name=\"Momentum4D\")"
   ]
  },
  {
   "cell_type": "code",
   "execution_count": 9,
   "id": "2037b67c-3cb4-46bd-a643-ddd955c0df43",
   "metadata": {},
   "outputs": [],
   "source": [
    "# hist.Hist.new.Regular(200000, 0, 200000).Double().fill(ak.ravel(single_mu.event_id)).plot();"
   ]
  },
  {
   "cell_type": "code",
   "execution_count": 10,
   "id": "c76ca48d-d1a9-4e3e-9136-86ca7f442959",
   "metadata": {},
   "outputs": [],
   "source": [
    "p_mom = single_mu[single_mu.charge==+1]\n",
    "n_mom= single_mu[single_mu.charge==-1]"
   ]
  },
  {
   "cell_type": "code",
   "execution_count": 11,
   "id": "853e91f9-7252-487e-a982-8d18f0f7d70a",
   "metadata": {},
   "outputs": [],
   "source": [
    "p_pos, p_neg = ak.unzip(ak.cartesian([p_mom, n_mom], axis=0))"
   ]
  },
  {
   "cell_type": "code",
   "execution_count": 12,
   "id": "968883ae-f211-48dc-84cc-759f2dc0574b",
   "metadata": {},
   "outputs": [],
   "source": [
    "event_selection = (p_pos.event_id == p_neg.event_id)\n",
    "\n",
    "# charge_selection = p_pos[event_selection].charge + p_neg[event_selection].charge == 0.0"
   ]
  },
  {
   "cell_type": "code",
   "execution_count": 13,
   "id": "1d7831f4-b1ea-4917-a1e1-fa3a72e79fb5",
   "metadata": {},
   "outputs": [
    {
     "data": {
      "text/plain": [
       "20341"
      ]
     },
     "execution_count": 13,
     "metadata": {},
     "output_type": "execute_result"
    }
   ],
   "source": [
    "ak.sum(event_selection)"
   ]
  },
  {
   "cell_type": "code",
   "execution_count": 14,
   "id": "bfb2901b-2897-46ef-bcd4-8c9aae746aa3",
   "metadata": {},
   "outputs": [
    {
     "data": {
      "text/plain": [
       "40682"
      ]
     },
     "execution_count": 14,
     "metadata": {},
     "output_type": "execute_result"
    }
   ],
   "source": [
    "ak.size(single_mu.event_id)"
   ]
  },
  {
   "cell_type": "code",
   "execution_count": 15,
   "id": "80c00370-c2f0-4281-acb1-09bbac73ff85",
   "metadata": {},
   "outputs": [
    {
     "data": {
      "text/plain": [
       "20341"
      ]
     },
     "execution_count": 15,
     "metadata": {},
     "output_type": "execute_result"
    }
   ],
   "source": [
    "ak.size(p_pos[event_selection])"
   ]
  },
  {
   "cell_type": "code",
   "execution_count": 16,
   "id": "75b9e48e-9dd1-4100-874f-d7f19b83e177",
   "metadata": {},
   "outputs": [
    {
     "data": {
      "text/plain": [
       "20341"
      ]
     },
     "execution_count": 16,
     "metadata": {},
     "output_type": "execute_result"
    }
   ],
   "source": [
    "ak.size(p_neg[event_selection])"
   ]
  },
  {
   "cell_type": "code",
   "execution_count": 17,
   "id": "de032b1b-b03c-4920-b397-9aaee1c9b081",
   "metadata": {},
   "outputs": [],
   "source": [
    "# hist.Hist.new.Regular(3, -1.5, 1.5).Double().fill(ak.ravel(p_pos[event_selection].charge)).plot();"
   ]
  },
  {
   "cell_type": "code",
   "execution_count": 18,
   "id": "26e904e6-1528-46ad-a59e-55739e2f4ebd",
   "metadata": {},
   "outputs": [
    {
     "name": "stdout",
     "output_type": "stream",
     "text": [
      "name                 | typename                 | interpretation                \n",
      "---------------------+--------------------------+-------------------------------\n",
      "event                | evt                      | AsGroup(<TBranchElement 'ev...\n",
      "event/id             | int32_t                  | AsDtype('>i4')\n",
      "event/rec_stat       | int32_t                  | AsDtype('>i4')\n",
      "event/weight         | double                   | AsDtype('>f8')\n",
      "event/rec_ndim       | int32_t                  | AsDtype('>i4')\n",
      "true_dim             | dim                      | AsGroup(<TBranchElement 'tr...\n",
      "true_dim/mass        | double                   | AsDtype('>f8')\n",
      "true_dim/energy      | double                   | AsDtype('>f8')\n",
      "true_dim/pt          | double                   | AsDtype('>f8')\n",
      "true_dim/x1          | double                   | AsDtype('>f8')\n",
      "true_dim/x2          | double                   | AsDtype('>f8')\n",
      "true_dim/xf          | double                   | AsDtype('>f8')\n",
      "true_dim/costh       | double                   | AsDtype('>f8')\n",
      "true_dim/phi         | double                   | AsDtype('>f8')\n"
     ]
    }
   ],
   "source": [
    "dim_tree = event_file[\"dim_tree\"]\n",
    "dim_tree.show()"
   ]
  },
  {
   "cell_type": "code",
   "execution_count": 19,
   "id": "668bcf1e-7bc0-492b-bce8-e407a6be5479",
   "metadata": {},
   "outputs": [],
   "source": [
    "dim_data = dim_tree.arrays([\"event/rec_ndim\", \"true_dim/mass\", \"true_dim/energy\", \"true_dim/pt\",\n",
    "                           \"true_dim/x1\", \"true_dim/x2\", \"true_dim/xf\", \"true_dim/costh\", \"true_dim/phi\"], library=\"pd\")"
   ]
  },
  {
   "cell_type": "code",
   "execution_count": 20,
   "id": "5a608b9e-f519-45bc-8078-231c6b9d2a9d",
   "metadata": {},
   "outputs": [],
   "source": [
    "dim_data = dim_data[dim_data[\"event/rec_ndim\"]==1]"
   ]
  },
  {
   "cell_type": "code",
   "execution_count": 21,
   "id": "994d2cd5-94ad-4cad-b3dd-139127200550",
   "metadata": {},
   "outputs": [],
   "source": [
    "dim_data = dim_data[[\"true_dim/mass\", \"true_dim/energy\", \"true_dim/pt\", \"true_dim/x1\",\n",
    "                     \"true_dim/x2\", \"true_dim/xf\", \"true_dim/costh\", \"true_dim/phi\"]].to_numpy()"
   ]
  },
  {
   "cell_type": "code",
   "execution_count": 22,
   "id": "7cad093a-1070-45bb-a29d-8335469a2e0c",
   "metadata": {},
   "outputs": [
    {
     "data": {
      "text/plain": [
       "(20341, 8)"
      ]
     },
     "execution_count": 22,
     "metadata": {},
     "output_type": "execute_result"
    }
   ],
   "source": [
    "np.shape(dim_data)"
   ]
  },
  {
   "cell_type": "code",
   "execution_count": 23,
   "id": "3556bd1f-753b-425a-9ea4-9d975cec9824",
   "metadata": {},
   "outputs": [],
   "source": [
    "mp = 0.938\n",
    "ebeam = 120.\n",
    "\n",
    "p_beam = ak.zip({\n",
    "    \"px\": 0.,\n",
    "    \"py\": 0.,\n",
    "    \"pz\": np.sqrt(ebeam*ebeam - mp*mp),\n",
    "    \"energy\": ebeam,\n",
    "}, with_name=\"Momentum4D\")\n",
    "\n",
    "p_target = ak.zip({\n",
    "    \"px\": 0.,\n",
    "    \"py\": 0.,\n",
    "    \"pz\": 0.,\n",
    "    \"energy\": mp,\n",
    "}, with_name=\"Momentum4D\")"
   ]
  },
  {
   "cell_type": "code",
   "execution_count": 24,
   "id": "76b4d9cc-76fe-4581-9de4-692df890d198",
   "metadata": {},
   "outputs": [],
   "source": [
    "p_pos = p_pos[event_selection]\n",
    "p_neg = p_neg[event_selection]\n",
    "\n",
    "p_cms = p_beam + p_target\n",
    "p_sum = (p_pos + p_neg)"
   ]
  },
  {
   "cell_type": "code",
   "execution_count": 25,
   "id": "eaaf5e88-1f6e-48bd-a894-70b04e274c6e",
   "metadata": {},
   "outputs": [],
   "source": [
    "mass = p_sum.mass\n",
    "pT = p_sum.pt"
   ]
  },
  {
   "cell_type": "code",
   "execution_count": 26,
   "id": "f15ac3a2-8ff4-4dc1-83fb-04eaea0f20bf",
   "metadata": {},
   "outputs": [],
   "source": [
    "x1 = (p_target@p_sum)/(p_target@p_cms)\n",
    "x2 = (p_beam@p_sum)/(p_beam@p_cms)"
   ]
  },
  {
   "cell_type": "code",
   "execution_count": 27,
   "id": "5e80e397-f5b9-4a21-bd55-8517fea6a0be",
   "metadata": {},
   "outputs": [],
   "source": [
    "s = p_cms.tau2\n",
    "bv_cms = p_cms.to_beta3()\n",
    "p_boost = p_sum.boost(-bv_cms)\n",
    "xF = 2.*p_boost.pz/np.sqrt(s)/(1. - mass*mass/s)"
   ]
  },
  {
   "cell_type": "code",
   "execution_count": 28,
   "id": "de2f2a69-8dd0-47c8-aad3-722f6cecda22",
   "metadata": {},
   "outputs": [],
   "source": [
    "mass_selection = (0.0 <= mass) & (mass <= 10.0)"
   ]
  },
  {
   "cell_type": "code",
   "execution_count": 29,
   "id": "879c361e-1a35-40ac-9fe5-f12ab91755ad",
   "metadata": {},
   "outputs": [
    {
     "data": {
      "text/plain": [
       "20321"
      ]
     },
     "execution_count": 29,
     "metadata": {},
     "output_type": "execute_result"
    }
   ],
   "source": [
    "ak.sum(mass_selection)"
   ]
  },
  {
   "cell_type": "code",
   "execution_count": 30,
   "id": "00874dc0-dba8-4939-a98e-5109ab604142",
   "metadata": {},
   "outputs": [],
   "source": [
    "x1_selection = (0.0 <= x1[mass_selection]) & (x1[mass_selection] <=1.0)"
   ]
  },
  {
   "cell_type": "code",
   "execution_count": 31,
   "id": "3a1d238e-d43d-463f-a404-c86e39b1c516",
   "metadata": {},
   "outputs": [
    {
     "data": {
      "text/plain": [
       "19034"
      ]
     },
     "execution_count": 31,
     "metadata": {},
     "output_type": "execute_result"
    }
   ],
   "source": [
    "ak.sum(x1_selection)"
   ]
  },
  {
   "cell_type": "code",
   "execution_count": 32,
   "id": "bddd7a77-3b63-4183-aa0b-910f67fdbddc",
   "metadata": {},
   "outputs": [],
   "source": [
    "x2_selection = (0.0 <= x1[mass_selection][x1_selection]) & (x1[mass_selection][x1_selection] <=1.0)"
   ]
  },
  {
   "cell_type": "code",
   "execution_count": 33,
   "id": "68c67628-be77-4b08-9935-9ae03483cac5",
   "metadata": {},
   "outputs": [
    {
     "data": {
      "text/plain": [
       "19034"
      ]
     },
     "execution_count": 33,
     "metadata": {},
     "output_type": "execute_result"
    }
   ],
   "source": [
    "ak.sum(x2_selection)"
   ]
  },
  {
   "cell_type": "code",
   "execution_count": 34,
   "id": "178f2aaf-02c4-43c1-ad7b-3f34dd9d7549",
   "metadata": {},
   "outputs": [],
   "source": [
    "xf_selection = np.abs(xF[mass_selection][x1_selection][x2_selection]) <= 1.0"
   ]
  },
  {
   "cell_type": "code",
   "execution_count": 35,
   "id": "97c22f4a-b51a-420f-a0a9-e6a1251f262c",
   "metadata": {},
   "outputs": [
    {
     "data": {
      "text/plain": [
       "19033"
      ]
     },
     "execution_count": 35,
     "metadata": {},
     "output_type": "execute_result"
    }
   ],
   "source": [
    "ak.sum(xf_selection)"
   ]
  },
  {
   "cell_type": "code",
   "execution_count": 36,
   "id": "8032a4c7-a839-4c48-9d9c-1ab16b86a86f",
   "metadata": {},
   "outputs": [],
   "source": [
    "pz_cut = (p_pos.pz[mass_selection][x1_selection][x2_selection][xf_selection] + p_neg.pz[mass_selection][x1_selection][x2_selection][xf_selection] <= 120.) & (30. <= p_pos.pz[mass_selection][x1_selection][x2_selection][xf_selection] + p_neg.pz[mass_selection][x1_selection][x2_selection][xf_selection]) "
   ]
  },
  {
   "cell_type": "code",
   "execution_count": 37,
   "id": "f1edad64-638a-443c-a8d2-cb5674793985",
   "metadata": {},
   "outputs": [
    {
     "data": {
      "text/plain": [
       "18917"
      ]
     },
     "execution_count": 37,
     "metadata": {},
     "output_type": "execute_result"
    }
   ],
   "source": [
    "ak.sum(pz_cut)"
   ]
  },
  {
   "cell_type": "code",
   "execution_count": 38,
   "id": "9115f2db-31c1-4320-a654-d6417d6d5009",
   "metadata": {},
   "outputs": [
    {
     "data": {
      "image/png": "[encoded data removed]",
      "text/plain": [
       "<Figure size 640x480 with 1 Axes>"
      ]
     },
     "metadata": {},
     "output_type": "display_data"
    }
   ],
   "source": [
    "hist.Hist.new.Regular(20, 10., 100.).Double().fill(p_sum.energy[mass_selection][x1_selection][x2_selection][xf_selection][pz_cut]).plot(label=\"rec. energy\")\n",
    "hist.Hist.new.Regular(20, 10., 100.).Double().fill(dim_data[:, 1]).plot(label=\"gen. energy\")\n",
    "plt.xlabel(\"energy [GeV]\")\n",
    "plt.yscale(\"log\")\n",
    "plt.legend()\n",
    "plt.savefig(\"imgs/energy.png\")\n",
    "plt.show()"
   ]
  },
  {
   "cell_type": "code",
   "execution_count": 39,
   "id": "a7b1e840-2b5f-4f4a-b660-2877b7645147",
   "metadata": {},
   "outputs": [
    {
     "data": {
      "image/png": "[encoded data removed]",
      "text/plain": [
       "<Figure size 640x480 with 1 Axes>"
      ]
     },
     "metadata": {},
     "output_type": "display_data"
    }
   ],
   "source": [
    "hist.Hist.new.Regular(20, 0., 10.).Double().fill(mass[mass_selection][x1_selection][x2_selection][xf_selection][pz_cut]).plot(label=\"rec. mass\")\n",
    "hist.Hist.new.Regular(20, 0., 10.).Double().fill(dim_data[:, 0]).plot(label=\"gen. mass\")\n",
    "plt.xlabel(\"mass [GeV/c^2]\")\n",
    "plt.yscale(\"log\")\n",
    "plt.legend()\n",
    "plt.savefig(\"imgs/mass.png\")\n",
    "plt.show()"
   ]
  },
  {
   "cell_type": "code",
   "execution_count": 40,
   "id": "d4d20d4e-2151-4fe3-a448-289790091a72",
   "metadata": {},
   "outputs": [
    {
     "data": {
      "image/png": "[encoded data removed]",
      "text/plain": [
       "<Figure size 640x480 with 1 Axes>"
      ]
     },
     "metadata": {},
     "output_type": "display_data"
    }
   ],
   "source": [
    "hist.Hist.new.Regular(20, 0., 5.).Double().fill(pT[mass_selection][x1_selection][x2_selection][xf_selection][pz_cut]).plot(label=\"rec. pT\")\n",
    "hist.Hist.new.Regular(20, 0., 5.).Double().fill(dim_data[:, 2]).plot(label=\"gen. pT\")\n",
    "plt.xlabel(\"pt [GeV/c]\")\n",
    "plt.yscale(\"log\")\n",
    "plt.legend()\n",
    "plt.savefig(\"imgs/pt.png\")\n",
    "plt.show()"
   ]
  },
  {
   "cell_type": "code",
   "execution_count": 41,
   "id": "759f3ec7-8e92-430f-957a-4d2937414171",
   "metadata": {},
   "outputs": [
    {
     "data": {
      "image/png": "[encoded data removed]",
      "text/plain": [
       "<Figure size 640x480 with 1 Axes>"
      ]
     },
     "metadata": {},
     "output_type": "display_data"
    }
   ],
   "source": [
    "hist.Hist.new.Regular(20, 0., 1.).Double().fill(xF[mass_selection][x1_selection][x2_selection][xf_selection][pz_cut]).plot(label=\"rec. xF\")\n",
    "hist.Hist.new.Regular(20, 0., 1.).Double().fill(dim_data[:, 5]).plot(label=\"gen. xF\")\n",
    "plt.xlabel(\"xF\")\n",
    "plt.yscale(\"log\")\n",
    "plt.legend()\n",
    "plt.savefig(\"imgs/xf.png\")\n",
    "plt.show()"
   ]
  },
  {
   "cell_type": "code",
   "execution_count": 42,
   "id": "3dd091ef-dc57-4edc-9bc8-e03fa050e6db",
   "metadata": {},
   "outputs": [
    {
     "data": {
      "image/png": "[encoded data removed]",
      "text/plain": [
       "<Figure size 640x480 with 1 Axes>"
      ]
     },
     "metadata": {},
     "output_type": "display_data"
    }
   ],
   "source": [
    "hist.Hist.new.Regular(20, 0., 1.).Double().fill(x1[mass_selection][x1_selection][x2_selection][xf_selection][pz_cut]).plot(label=\"rec. x1\")\n",
    "hist.Hist.new.Regular(20, 0., 1.).Double().fill(dim_data[:, 3]).plot(label=\"gen. x1\")\n",
    "plt.xlabel(\"x1\")\n",
    "plt.yscale(\"log\")\n",
    "plt.legend()\n",
    "plt.savefig(\"imgs/x1.png\")\n",
    "plt.show()"
   ]
  },
  {
   "cell_type": "code",
   "execution_count": 43,
   "id": "9e96fd57-7a52-431c-9c03-e4f75fe7b4b9",
   "metadata": {},
   "outputs": [
    {
     "data": {
      "image/png": "[encoded data removed]",
      "text/plain": [
       "<Figure size 640x480 with 1 Axes>"
      ]
     },
     "metadata": {},
     "output_type": "display_data"
    }
   ],
   "source": [
    "hist.Hist.new.Regular(20, 0., 1.).Double().fill(x2[mass_selection][x1_selection][x2_selection][xf_selection][pz_cut]).plot(label=\"rec. x2\")\n",
    "hist.Hist.new.Regular(20, 0., 1.).Double().fill(dim_data[:, 4]).plot(label=\"gen. x2\")\n",
    "plt.xlabel(\"x2\")\n",
    "plt.yscale(\"log\")\n",
    "plt.legend()\n",
    "plt.savefig(\"imgs/x2.png\")\n",
    "plt.show()"
   ]
  },
  {
   "cell_type": "code",
   "execution_count": 44,
   "id": "228bc4ee-04e5-48d7-bfaa-9cc035541f22",
   "metadata": {},
   "outputs": [],
   "source": [
    "costh = 2.*(p_neg.E*p_pos.pz - p_pos.E*p_neg.pz)/mass/np.sqrt(mass*mass + pT*pT)"
   ]
  },
  {
   "cell_type": "code",
   "execution_count": 45,
   "id": "a5130782-5a83-4e29-a5bd-3a4602ae80f1",
   "metadata": {},
   "outputs": [
    {
     "data": {
      "image/png": "[encoded data removed]",
      "text/plain": [
       "<Figure size 640x480 with 1 Axes>"
      ]
     },
     "metadata": {},
     "output_type": "display_data"
    }
   ],
   "source": [
    "hist.Hist.new.Regular(20, -1.0, 1.0).Double().fill(costh[mass_selection][x1_selection][x2_selection][xf_selection][pz_cut]).plot(label=\"rec. cos-theta\")\n",
    "hist.Hist.new.Regular(20, -1., 1.).Double().fill(dim_data[:, 6]).plot(label=\"gen. cos-theta\")\n",
    "plt.xlabel(\"cos-theta\")\n",
    "plt.yscale(\"log\")\n",
    "plt.legend()\n",
    "plt.savefig(\"imgs/cos-theta.png\")\n",
    "plt.show()"
   ]
  },
  {
   "cell_type": "code",
   "execution_count": 46,
   "id": "610a6994-7242-48b1-96ac-34d3fadbdf40",
   "metadata": {},
   "outputs": [],
   "source": [
    "phi = np.arctan2(2.*np.sqrt(mass*mass + pT*pT)*(p_neg.x*p_pos.y - p_pos.x*p_neg.y), mass*(p_pos.x*p_pos.x - p_neg.x*p_neg.x + p_pos.y*p_pos.y - p_neg.y*p_neg.y))"
   ]
  },
  {
   "cell_type": "code",
   "execution_count": 47,
   "id": "735de3d0-7027-4b83-ab42-3bfa70ac9443",
   "metadata": {},
   "outputs": [
    {
     "data": {
      "image/png": "[encoded data removed]",
      "text/plain": [
       "<Figure size 640x480 with 1 Axes>"
      ]
     },
     "metadata": {},
     "output_type": "display_data"
    }
   ],
   "source": [
    "hist.Hist.new.Regular(20, 0.0, np.pi).Double().fill(phi[mass_selection][x1_selection][x2_selection][xf_selection][pz_cut]).plot(label=\"rec. phi\")\n",
    "hist.Hist.new.Regular(20, 0.0, np.pi).Double().fill(dim_data[:, 7]).plot(label=\"gen. phi\")\n",
    "plt.xlabel(\"costheta\")\n",
    "plt.yscale(\"log\")\n",
    "plt.legend()\n",
    "plt.savefig(\"imgs/phi.png\")\n",
    "plt.show()"
   ]
  },
  {
   "cell_type": "code",
   "execution_count": null,
   "id": "db60db59-ec7b-47d3-9408-2e94b7b7b0a3",
   "metadata": {},
   "outputs": [],
   "source": []
  }
 ],
 "metadata": {
  "kernelspec": {
   "display_name": "Python 3 (ipykernel)",
   "language": "python",
   "name": "python3"
  },
  "language_info": {
   "codemirror_mode": {
    "name": "ipython",
    "version": 3
   },
   "file_extension": ".py",
   "mimetype": "text/x-python",
   "name": "python",
   "nbconvert_exporter": "python",
   "pygments_lexer": "ipython3",
   "version": "3.9.13"
  }
 },
 "nbformat": 4,
 "nbformat_minor": 5
}
