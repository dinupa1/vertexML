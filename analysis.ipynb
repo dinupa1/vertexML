{
 "cells": [
  {
   "cell_type": "code",
   "execution_count": null,
   "id": "6bf59651-8a69-4f57-8bd6-0c8243566e14",
   "metadata": {},
   "outputs": [],
   "source": [
    "import torch\n",
    "from source.ProcessData import ProcessData\n",
    "from source.Model import Net\n",
    "from torch import optim\n",
    "from source.Utils import RandomSplit, Train, Validation,Predict, plot_loss, plot_predition\n",
    "from torch_scatter import scatter_mean\n",
    "from torch.optim.lr_scheduler import StepLR"
   ]
  },
  {
   "cell_type": "code",
   "execution_count": null,
   "id": "e7339616-737c-422d-b63c-ee78c10adf10",
   "metadata": {},
   "outputs": [],
   "source": [
    "# get the processed data\n",
    "\n",
    "dataset = ProcessData('data/')\n",
    "data = dataset[0]"
   ]
  },
  {
   "cell_type": "code",
   "execution_count": null,
   "id": "ac9a98ec-763c-47ea-be6e-ac89d31eae84",
   "metadata": {},
   "outputs": [],
   "source": [
    "# split the data to train, validate, test = 60:20:20\n",
    "data = RandomSplit(data, 0.2, 0.2, 64)"
   ]
  },
  {
   "cell_type": "code",
   "execution_count": null,
   "id": "b90f0c19-36f6-4353-b941-21d75c10552f",
   "metadata": {},
   "outputs": [],
   "source": [
    "# loa the model\n",
    "model = Net()\n",
    "\n",
    "model"
   ]
  },
  {
   "cell_type": "code",
   "execution_count": null,
   "id": "bdba2780-4526-4609-9732-182e5d4093bf",
   "metadata": {},
   "outputs": [],
   "source": [
    "total_trainable_params = sum(p.numel() for p in model.parameters())\n",
    "print('total trainable params:', total_trainable_params)"
   ]
  },
  {
   "cell_type": "code",
   "execution_count": null,
   "id": "241e21e7-b4b4-4b26-906b-89b3caed736b",
   "metadata": {},
   "outputs": [],
   "source": [
    "optimizer = optim.Adam(model.parameters(), lr=1.e-05)\n",
    "scheduler = StepLR(optimizer, step_size=5, gamma=1.e-02)"
   ]
  },
  {
   "cell_type": "code",
   "execution_count": null,
   "id": "e8f382ef-5abb-4b3c-9f6f-ca5ffdd3f0f8",
   "metadata": {},
   "outputs": [],
   "source": [
    "loss, epochs = {'train': [], 'valid': []}, []\n",
    "\n",
    "# train the model and validate\n",
    "for epoch in range(1, 201):\n",
    "    epochs.append(epoch)\n",
    "    loss['train'].append(Train(model, data['train'], optimizer, epoch))\n",
    "    loss['valid'].append(Validation(model, data['valid'], epoch))\n",
    "    scheduler.step()"
   ]
  },
  {
   "cell_type": "code",
   "execution_count": null,
   "id": "7e8651c2-3167-44c1-b4f9-6a36c81bb4f3",
   "metadata": {},
   "outputs": [],
   "source": [
    "# plot the loss for train and validation\n",
    "plot_loss(epochs, loss)"
   ]
  },
  {
   "cell_type": "code",
   "execution_count": null,
   "id": "ac0f1300-6617-4f61-8aa1-1361e477aefa",
   "metadata": {},
   "outputs": [],
   "source": [
    "# make predictions\n",
    "predct_data = Predict(model, data['test'])"
   ]
  },
  {
   "cell_type": "code",
   "execution_count": null,
   "id": "550b83ff-2d49-41ea-bf09-58f6a8ba5446",
   "metadata": {},
   "outputs": [],
   "source": [
    "# plot predictions\n",
    "plot_predition(predct_data)"
   ]
  },
  {
   "cell_type": "code",
   "execution_count": null,
   "id": "5aa67f74-7199-4e59-b447-58372584f52b",
   "metadata": {},
   "outputs": [],
   "source": []
  }
 ],
 "metadata": {
  "kernelspec": {
   "display_name": "Python 3 (ipykernel)",
   "language": "python",
   "name": "python3"
  },
  "language_info": {
   "codemirror_mode": {
    "name": "ipython",
    "version": 3
   },
   "file_extension": ".py",
   "mimetype": "text/x-python",
   "name": "python",
   "nbconvert_exporter": "python",
   "pygments_lexer": "ipython3",
   "version": "3.9.13"
  }
 },
 "nbformat": 4,
 "nbformat_minor": 5
}
