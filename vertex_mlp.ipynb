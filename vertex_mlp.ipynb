{
 "cells": [
  {
   "cell_type": "code",
   "execution_count": 1,
   "id": "0df98d35-0a58-4ad1-8a0f-8078e17b2810",
   "metadata": {},
   "outputs": [],
   "source": [
    "import pandas as pd\n",
    "import numpy as np\n",
    "from sklearn.model_selection import train_test_split\n",
    "from sklearn.preprocessing import StandardScaler\n",
    "\n",
    "import torch\n",
    "from torch.utils.data import TensorDataset, DataLoader\n",
    "from torch.optim.lr_scheduler import StepLR\n",
    "\n",
    "from vertex import vertexMLP, vertexIN, AverageMeter, draw_loss, draw_test, draw_weights"
   ]
  },
  {
   "cell_type": "markdown",
   "id": "e405d5df-cd24-4453-9932-650883c98fc9",
   "metadata": {},
   "source": [
    "# A Machine Learning Approach to Find the Vertex Information of the Single Tracks"
   ]
  },
  {
   "cell_type": "code",
   "execution_count": 2,
   "id": "bb426f99-a7e5-4320-b266-1f757726a937",
   "metadata": {},
   "outputs": [],
   "source": [
    "# Load the data from .csv file\n",
    "data = pd.read_csv('data/raw/events-200k.csv')"
   ]
  },
  {
   "cell_type": "code",
   "execution_count": 6,
   "id": "205280b0-7f57-4d8b-abc1-8e1af77b349b",
   "metadata": {},
   "outputs": [],
   "source": [
    "X, y = data[['q1', 'x1', 'y1', 'z1', 'x2', 'y2', 'z2', 'px1', 'py1', 'pz1', 'px2', 'py2', 'pz2']].to_numpy(),\\\n",
    "       data[['vtx', 'vty', 'vtz', 'vpx', 'vpy', 'vpz']].to_numpy()"
   ]
  },
  {
   "cell_type": "code",
   "execution_count": 7,
   "id": "a85e05ab-e946-4944-a559-6f5aec839d1d",
   "metadata": {},
   "outputs": [],
   "source": [
    "# Train, validate, test split\n",
    "X_trai_val, X_test, y_train_val, y_test = train_test_split(X, y, test_size=0.1)\n",
    "X_train, X_val, y_train, y_val = train_test_split(X_trai_val, y_train_val, test_size=0.22)"
   ]
  },
  {
   "cell_type": "code",
   "execution_count": 8,
   "id": "201b76d2-2121-44e9-bb44-7ba5ac0a2aad",
   "metadata": {},
   "outputs": [],
   "source": [
    "# Scale the input data\n",
    "scaler = StandardScaler()\n",
    "X_train = scaler.fit_transform(X_train)\n",
    "X_val = scaler.transform(X_val)\n",
    "X_test = scaler.transform(X_test)"
   ]
  },
  {
   "cell_type": "code",
   "execution_count": 9,
   "id": "f75fef0c-0b1b-4bb8-a0bc-177eff3880e8",
   "metadata": {},
   "outputs": [],
   "source": [
    "# Convert to torch data set\n",
    "batch_size = 64\n",
    "train_dataset = TensorDataset(torch.Tensor(X_train), torch.Tensor(y_train))\n",
    "train_dataloader = DataLoader(train_dataset, batch_size=batch_size, shuffle=True)\n",
    "\n",
    "val_dataset = TensorDataset(torch.Tensor(X_val), torch.Tensor(y_val))\n",
    "val_dataloader = DataLoader(val_dataset, batch_size=batch_size, shuffle=False)"
   ]
  },
  {
   "cell_type": "code",
   "execution_count": null,
   "id": "3f46a2ec-e97f-4bb3-ad05-4521d484a7ea",
   "metadata": {},
   "outputs": [],
   "source": []
  }
 ],
 "metadata": {
  "kernelspec": {
   "display_name": "Python 3 (ipykernel)",
   "language": "python",
   "name": "python3"
  },
  "language_info": {
   "codemirror_mode": {
    "name": "ipython",
    "version": 3
   },
   "file_extension": ".py",
   "mimetype": "text/x-python",
   "name": "python",
   "nbconvert_exporter": "python",
   "pygments_lexer": "ipython3",
   "version": "3.9.13"
  }
 },
 "nbformat": 4,
 "nbformat_minor": 5
}
